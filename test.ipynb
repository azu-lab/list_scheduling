{
 "cells": [
  {
   "cell_type": "code",
   "execution_count": 3,
   "metadata": {},
   "outputs": [
    {
     "name": "stdout",
     "output_type": "stream",
     "text": [
      "0: ['0: [1-11]']\n",
      "1: ['1: [2-10]', '2: [10-20]']\n"
     ]
    }
   ],
   "source": [
    "from task import Task\n",
    "from scheduler import Scheduler\n",
    "\n",
    "inputs: list[Task] = [Task(0, 10, 1), Task(1, 8, 2), Task(2, 10, 3)]\n",
    "scheduler = Scheduler(2)\n",
    "\n",
    "outputs = scheduler.schedule(inputs)\n",
    "\n",
    "scheduler.display(outputs)"
   ]
  }
 ],
 "metadata": {
  "kernelspec": {
   "display_name": "Python 3",
   "language": "python",
   "name": "python3"
  },
  "language_info": {
   "codemirror_mode": {
    "name": "ipython",
    "version": 3
   },
   "file_extension": ".py",
   "mimetype": "text/x-python",
   "name": "python",
   "nbconvert_exporter": "python",
   "pygments_lexer": "ipython3",
   "version": "3.10.11"
  }
 },
 "nbformat": 4,
 "nbformat_minor": 2
}
