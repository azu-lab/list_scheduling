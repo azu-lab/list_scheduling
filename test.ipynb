{
 "cells": [
  {
   "cell_type": "code",
   "execution_count": 1,
   "metadata": {},
   "outputs": [
    {
     "name": "stdout",
     "output_type": "stream",
     "text": [
      "-1: ['[1-11]', '[15-23]', '[30-40]']\n"
     ]
    }
   ],
   "source": [
    "from task import Task\n",
    "from scheduler import Scheduler\n",
    "\n",
    "tasks: list[Task] = [Task(10, 1), Task(8, 15), Task(10, 30)]\n",
    "scheduler = Scheduler()\n",
    "\n",
    "scheduler.display(tasks)"
   ]
  }
 ],
 "metadata": {
  "kernelspec": {
   "display_name": "Python 3",
   "language": "python",
   "name": "python3"
  },
  "language_info": {
   "codemirror_mode": {
    "name": "ipython",
    "version": 3
   },
   "file_extension": ".py",
   "mimetype": "text/x-python",
   "name": "python",
   "nbconvert_exporter": "python",
   "pygments_lexer": "ipython3",
   "version": "3.10.11"
  }
 },
 "nbformat": 4,
 "nbformat_minor": 2
}
