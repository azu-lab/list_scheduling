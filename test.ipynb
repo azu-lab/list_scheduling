{
 "cells": [
  {
   "cell_type": "code",
   "execution_count": 1,
   "metadata": {},
   "outputs": [
    {
     "name": "stdout",
     "output_type": "stream",
     "text": [
      "0: ['0: [2-12]', '3: [12-20]']\n",
      "1: ['1: [2-10]', '2: [10-20]']\n"
     ]
    }
   ],
   "source": [
    "from src.task import Task\n",
    "from src.scheduler import Scheduler\n",
    "\n",
    "inputs: list[Task] = [Task(0, 10, 2), Task(1, 8, 2), Task(2, 10, 3), Task(3, 8, 3)]\n",
    "scheduler = Scheduler(2)\n",
    "\n",
    "outputs = scheduler.schedule_taskset(inputs)\n",
    "\n",
    "scheduler.display(outputs)"
   ]
  },
  {
   "cell_type": "code",
   "execution_count": 3,
   "metadata": {},
   "outputs": [
    {
     "name": "stdout",
     "output_type": "stream",
     "text": [
      "[set(), {0}, {0}, set()]\n",
      "0: ['0: [0-2]', '1: [2-6]', '2: [6-14]']\n",
      "1: ['3: [0-6]']\n"
     ]
    }
   ],
   "source": [
    "from src.dag import Dag\n",
    "from src.scheduler import Scheduler\n",
    "\n",
    "dag = Dag([2, 4, 8, 6], [(0, 1), (0, 2), (1, 3), (2, 3)])\n",
    "print([n.prev for n in dag.nodes])\n",
    "scheduler = Scheduler(2)\n",
    "\n",
    "outputs = scheduler.schedule_dag(dag)\n",
    "\n",
    "scheduler.display(outputs)"
   ]
  }
 ],
 "metadata": {
  "kernelspec": {
   "display_name": "Python 3",
   "language": "python",
   "name": "python3"
  },
  "language_info": {
   "codemirror_mode": {
    "name": "ipython",
    "version": 3
   },
   "file_extension": ".py",
   "mimetype": "text/x-python",
   "name": "python",
   "nbconvert_exporter": "python",
   "pygments_lexer": "ipython3",
   "version": "3.10.11"
  }
 },
 "nbformat": 4,
 "nbformat_minor": 2
}
